{
  "nbformat": 4,
  "nbformat_minor": 0,
  "metadata": {
    "colab": {
      "name": "Python Exercise 4 - Using Census Reporter to Make Geographic Selections.ipynb",
      "provenance": [],
      "collapsed_sections": []
    },
    "kernelspec": {
      "name": "python3",
      "display_name": "Python 3"
    }
  },
  "cells": [
    {
      "cell_type": "markdown",
      "metadata": {
        "id": "aY_JkCnqnOcv",
        "colab_type": "text"
      },
      "source": [
        "This project examines how APIs can be used to make geographic target selections using data from the Census.\n",
        "\n",
        "The company selected is OZO coffee - a Boulder (CO) based coffee brand that differentatites itself on the basis of oragnic roasted coffee. \n",
        "\n",
        "They're looking to expand their roastery, and they're looking at new areas in which they can begin to market their online coffee ordering store to. They'd like to start with some billboards in specific cities to get the word out.\n",
        "\n"
      ]
    },
    {
      "cell_type": "code",
      "metadata": {
        "id": "mGIYUw6nGP5O",
        "colab_type": "code",
        "outputId": "ffb515a8-00a9-4227-b153-becbb782a4c1",
        "colab": {
          "base_uri": "https://localhost:8080/",
          "height": 122
        }
      },
      "source": [
        "#Mounting G Drive to get \n",
        "from google.colab import drive \n",
        "drive.mount('/content/gdrive')\n"
      ],
      "execution_count": 0,
      "outputs": [
        {
          "output_type": "stream",
          "text": [
            "Go to this URL in a browser: https://accounts.google.com/o/oauth2/auth?client_id=947318989803-6bn6qk8qdgf4n4g3pfee6491hc0brc4i.apps.googleusercontent.com&redirect_uri=urn%3aietf%3awg%3aoauth%3a2.0%3aoob&response_type=code&scope=email%20https%3a%2f%2fwww.googleapis.com%2fauth%2fdocs.test%20https%3a%2f%2fwww.googleapis.com%2fauth%2fdrive%20https%3a%2f%2fwww.googleapis.com%2fauth%2fdrive.photos.readonly%20https%3a%2f%2fwww.googleapis.com%2fauth%2fpeopleapi.readonly\n",
            "\n",
            "Enter your authorization code:\n",
            "··········\n",
            "Mounted at /content/gdrive\n"
          ],
          "name": "stdout"
        }
      ]
    },
    {
      "cell_type": "code",
      "metadata": {
        "id": "EvRXi9RfG-gD",
        "colab_type": "code",
        "colab": {}
      },
      "source": [
        "import pandas as pd \n",
        "df=pd.read_csv('/content/gdrive/My Drive/Academics/Sem 3/Data/msas.csv')"
      ],
      "execution_count": 0,
      "outputs": []
    },
    {
      "cell_type": "markdown",
      "metadata": {
        "id": "AGSgxgicHv6f",
        "colab_type": "text"
      },
      "source": [
        "The differentiator for OZO's coffee is it's organic quality hence for the parameters  we will look at Mintel Data that prefers organic coffee. \n"
      ]
    },
    {
      "cell_type": "code",
      "metadata": {
        "id": "0-ulOZ2WJkNw",
        "colab_type": "code",
        "colab": {}
      },
      "source": [
        "#Parameter 1\n",
        "#Household Income Data from Mintel \n",
        "#HH = 50K - 74.9K"
      ],
      "execution_count": 0,
      "outputs": []
    },
    {
      "cell_type": "code",
      "metadata": {
        "id": "0G5RCF_nMhLt",
        "colab_type": "code",
        "colab": {}
      },
      "source": [
        "#Parameter 2 \n",
        "#Age Range Data from Mintel \n",
        "#Age = 18 - 34\n"
      ],
      "execution_count": 0,
      "outputs": []
    },
    {
      "cell_type": "code",
      "metadata": {
        "id": "Ia7I9pILMzIi",
        "colab_type": "code",
        "colab": {}
      },
      "source": [
        "#Parameter 3 \n",
        "#Look at areas with Hispanic Population "
      ],
      "execution_count": 0,
      "outputs": []
    },
    {
      "cell_type": "code",
      "metadata": {
        "id": "C-gVa_xsNNrX",
        "colab_type": "code",
        "colab": {}
      },
      "source": [
        "#Table ID for age B01001\n",
        "#Table ID for race and ethinicty B03002\n",
        "#Table ID for HH income B19001"
      ],
      "execution_count": 0,
      "outputs": []
    },
    {
      "cell_type": "code",
      "metadata": {
        "id": "FLfFBuHThLbV",
        "colab_type": "code",
        "outputId": "5ad6b5e0-3f37-4a63-f667-3f482e2420b9",
        "colab": {
          "base_uri": "https://localhost:8080/",
          "height": 68
        }
      },
      "source": [
        "#Making a python list of my Table IDs\n",
        "tableids = ['B01001', 'B03002', 'B19001']\n",
        "d = {\n",
        "     \"B01001\": \"Age Column\",\n",
        "     \"B03002\": \"race and ethinicty\",\n",
        "     \"B19001\": \"HH income\"\n",
        "}\n",
        "print(tableids, type(tableids))\n",
        "tableidstring = ','.join(tableids)\n",
        "print(tableidstring, type(tableidstring))\n",
        "#create the URL to get all above table information for US \n",
        "requesturl = 'https://api.censusreporter.org/1.0/data/show/latest?table_ids=%s&geo_ids=310|01000US' % tableidstring\n",
        "print(requesturl, type(requesturl))"
      ],
      "execution_count": 0,
      "outputs": [
        {
          "output_type": "stream",
          "text": [
            "['B01001', 'B03002', 'B19001'] <class 'list'>\n",
            "B01001,B03002,B19001 <class 'str'>\n",
            "https://api.censusreporter.org/1.0/data/show/latest?table_ids=B01001,B03002,B19001&geo_ids=310|01000US <class 'str'>\n"
          ],
          "name": "stdout"
        }
      ]
    },
    {
      "cell_type": "code",
      "metadata": {
        "id": "hjXURc5mvd5j",
        "colab_type": "code",
        "outputId": "7930e930-853e-4e51-bb94-0b8951d0f0d2",
        "colab": {
          "base_uri": "https://localhost:8080/",
          "height": 34
        }
      },
      "source": [
        "#This is how you call an remote API and get it's response and store it in a variable\n",
        "#For Example, the following line of python code will fetch my laptop IP Address \n",
        "import requests #This is a python library used for talking to remote APIs via HTTP \n",
        "\n",
        "census_api_response = requests.get(requesturl)\n",
        "\n",
        "#What is JSON? Its a text file format which looks very much like dictionary and list\n",
        "import json #This is a python library used for converting a JSON string into a dictionary or vice-versa\n",
        "\n",
        "#This line of code converts a string that is retrieved from the server into a dictionary \n",
        "census_api_response_as_dict = json.loads(census_api_response.content)\n",
        "print(\"census_api_response_as_dict: \", census_api_response_as_dict.keys())\n",
        "\n",
        "\n"
      ],
      "execution_count": 0,
      "outputs": [
        {
          "output_type": "stream",
          "text": [
            "census_api_response_as_dict:  dict_keys(['release', 'tables', 'data', 'geography'])\n"
          ],
          "name": "stdout"
        }
      ]
    },
    {
      "cell_type": "code",
      "metadata": {
        "id": "i5YTIaw54Pod",
        "colab_type": "code",
        "outputId": "dbf0a9c3-d4b4-46ae-974e-40f9ff4abfd4",
        "colab": {
          "base_uri": "https://localhost:8080/",
          "height": 54
        }
      },
      "source": [
        "#Creating a list of HH_Income from 50K to 74.9K from API for selected cities found in dataframe\n",
        "HH_income_50K_74_9K = []\n",
        "\n",
        "table_id_FOR_HH_INCOME = \"B19001\"\n",
        "city_code_prefix = \"31000US\"\n",
        "sub_table_IDS_FOR_HH_INCOME_BW_50K_74K = [\"B19001011\", \"B19001012\"]\n",
        "\n",
        "for city_code_from_dataframe in df[\"CBSA\"]:\n",
        "  full_city_code = city_code_prefix + str(city_code_from_dataframe)\n",
        "  api_data_of_city = census_api_response_as_dict[\"data\"][full_city_code]\n",
        "  hh_income_total_per_city = 0\n",
        "  for subtableid in sub_table_IDS_FOR_HH_INCOME_BW_50K_74K:\n",
        "    hh_income_total_per_city += api_data_of_city[table_id_FOR_HH_INCOME][\"estimate\"][subtableid]\n",
        "\n",
        "  HH_income_50K_74_9K.append(hh_income_total_per_city)\n",
        "\n",
        "print(HH_income_50K_74_9K)\n",
        "\n",
        "\n"
      ],
      "execution_count": 0,
      "outputs": [
        {
          "output_type": "stream",
          "text": [
            "[11570.0, 52446.0, 9529.0, 9273.0, 62094.0, 61709.0, 8962.0, 60100.0, 9564.0, 18279.0, 5892.0, 23865.0, 23155.0, 8723.0, 18415.0, 36075.0, 11347.0, 370708.0, 17183.0, 9693.0, 38268.0, 130910.0, 46583.0, 171008.0, 11794.0, 16864.0, 50852.0, 10516.0, 8681.0, 26754.0, 8755.0, 15758.0, 13700.0, 14232.0, 18155.0, 78459.0, 9580.0, 13237.0, 12867.0, 10919.0, 6741.0, 49110.0, 263815.0, 19315.0, 12251.0, 19040.0, 45146.0, 19756.0, 7025.0, 83257.0, 10464.0, 16135.0, 5961.0, 31164.0, 52794.0, 7369.0, 8451.0, 4174.0, 6570.0, 20192.0, 12580.0, 16048.0, 17223.0, 52801.0, 165044.0, 16372.0, 38747.0, 7686.0, 584377.0, 14867.0, 152157.0, 21454.0, 8573.0, 149824.0, 12858.0, 14360.0, 51051.0, 12219.0, 58441.0, 20450.0, 6240.0, 143300.0, 29671.0, 5481.0, 20027.0, 7821.0, 453796.0, 9685.0, 6235.0, 14505.0, 29968.0, 60328.0, 11419.0, 8249.0, 47490.0, 191382.0, 46881.0, 292475.0, 9848.0, 12978.0, 7764.0, 22698.0, 37518.0, 11647.0, 12751.0, 7454.0, 11363.0, 15691.0, 6498.0, 47389.0, 4932.0, 20364.0, 27700.0, 23138.0, 6551.0, 18055.0, 7371.0, 26639.0, 36479.0, 8271.0, 30682.0, 13783.0, 11709.0, 8921.0, 22240.0, 19513.0, 34371.0, 51838.0, 7252.0, 17759.0, 12010.0, 7853.0, 10079.0, 8749.0, 7221.0, 7130.0, 12157.0, 78351.0, 6647.0, 6316.0, 19272.0, 24326.0, 53507.0, 11781.0, 59809.0, 28318.0, 19759.0, 8060.0, 7361.0, 45716.0, 9561.0, 75172.0, 9562.0, 26959.0, 14875.0, 6227.0, 11703.0, 7420.0, 12753.0, 391041.0, 25791.0, 29405.0, 10177.0, 139459.0, 10968.0, 7036.0, 11989.0, 35949.0, 8659.0, 102142.0, 13863.0, 12935.0, 12016.0, 15087.0, 10498.0, 9062.0, 13401.0, 9741.0, 24299.0, 8581.0, 150204.0, 19064.0, 30931.0, 23648.0, 12774.0, 62389.0, 6305.0, 10751.0, 30054.0, 16150.0, 13650.0, 16113.0, 44090.0, 41580.0, 35313.0, 11460.0, 11970.0, 147559.0, 8089.0, 8643.0, 11649.0, 5225.0, 9031.0, 35653.0, 8301.0, 24386.0, 52183.0, 8571.0, 14413.0, 7531.0, 700681.0, 93391.0, 20527.0, 19526.0, 13735.0, 7930.0, 49068.0, 26735.0, 6742.0, 7012.0, 9173.0, 37254.0, 17049.0, 87842.0, 14635.0, 355922.0, 8229.0, 6339.0, 9846.0, 111518.0, 238037.0, 8714.0, 27709.0, 31551.0, 10296.0, 11365.0, 24740.0, 9048.0, 8530.0, 9503.0, 8102.0, 13538.0, 35655.0, 7911.0, 25847.0, 133189.0, 9863.0, 54857.0, 79355.0, 1050888.0, 11145.0, 60404.0, 20498.0, 26509.0, 7492.0, 9678.0, 44108.0, 96677.0, 21906.0, 66791.0, 160627.0, 14571.0, 8552.0, 44220.0, 44581.0, 14170.0, 7405.0, 36084.0, 29073.0, 361924.0, 304294.0, 6130.0, 179604.0, 9559.0, 5409.0, 41270.0, 164951.0, 32658.0, 19766.0, 101896.0, 33033.0, 11343.0, 14374.0, 15052.0, 84087.0, 12028.0, 28959.0, 12725.0, 33120.0, 85865.0, 243831.0, 25623.0, 16137.0, 78831.0, 26117.0, 10497.0, 6474.0, 140820.0, 13910.0, 15226.0, 11657.0, 9975.0, 204341.0, 29313.0, 23913.0, 29256.0, 77480.0, 8046.0, 150415.0, 187286.0, 221715.0, 79444.0, 18657.0, 14582.0, 11741.0, 23526.0, 34122.0, 25022.0, 40872.0, 243764.0, 10516.0, 7670.0, 10262.0, 8452.0, 27769.0, 9153.0, 13602.0, 18878.0, 22819.0, 24274.0, 40775.0, 16183.0, 38706.0, 34983.0, 10109.0, 9889.0, 9877.0, 40801.0, 7723.0, 47469.0, 25613.0, 213917.0, 12556.0, 9630.0, 11168.0, 42745.0, 19042.0, 20069.0, 71995.0, 71503.0, 15193.0, 13923.0, 53301.0, 22560.0, 8243.0, 25168.0, 6192.0, 8622.0, 124349.0, 23286.0, 15390.0, 4894.0, 13459.0, 315632.0, 13065.0, 8705.0, 10265.0, 8995.0, 8520.0, 9702.0, 48127.0, 10499.0, 9080.0, 19929.0, 9933.0, 46978.0, 57564.0, 16900.0, 35863.0, 42774.0, 11174.0, 13629.0]\n"
          ],
          "name": "stdout"
        }
      ]
    },
    {
      "cell_type": "code",
      "metadata": {
        "id": "8XsFz1xi2gy2",
        "colab_type": "code",
        "outputId": "9729cd86-4abe-437c-e5e6-5aecf0da006e",
        "colab": {
          "base_uri": "https://localhost:8080/",
          "height": 102
        }
      },
      "source": [
        "#Adding parameter 1 HH income column into dataframe\n",
        "df['HH_income'] = HH_income_50K_74_9K\n",
        "print(df.loc[df['HH_income'].idxmax()])\n",
        "\n"
      ],
      "execution_count": 0,
      "outputs": [
        {
          "output_type": "stream",
          "text": [
            "CBSA                                               35620\n",
            "NAME               New York-Newark-Jersey City, NY-NJ-PA\n",
            "POPESTIMATE2017                                 20320876\n",
            "HH_income                                    1.05089e+06\n",
            "Name: 249, dtype: object\n"
          ],
          "name": "stdout"
        }
      ]
    },
    {
      "cell_type": "markdown",
      "metadata": {
        "id": "-QUi-rhn-KVI",
        "colab_type": "text"
      },
      "source": [
        "1. What city has the highest count of the audience you chose for parameter #1?\n",
        "\n",
        "Answer is New York-Newark-Jersey City, NY-NJ-PA based on above income\n",
        "\n"
      ]
    },
    {
      "cell_type": "code",
      "metadata": {
        "id": "6KPH9Wh9-Y4L",
        "colab_type": "code",
        "outputId": "3ef38981-f95e-495a-9275-f1ee71c821ff",
        "colab": {
          "base_uri": "https://localhost:8080/",
          "height": 54
        }
      },
      "source": [
        "#Creating a list of Age = 18 - 34 from API for selected cities found in dataframe\n",
        "Age_18_34 = []\n",
        "\n",
        "table_id_FOR_Age = \"B01001\"\n",
        "city_code_prefix = \"31000US\"\n",
        "sub_table_IDS_FOR_age_18_34 = ['B01001007', 'B01001008', 'B01001009', 'B01001010', 'B01001011', 'B01001012',\n",
        "                                          'B01001031', 'B01001032', 'B01001033', 'B01001034', 'B01001035', 'B01001036']\n",
        "\n",
        "for city_code_from_dataframe in df[\"CBSA\"]:\n",
        "  full_city_code = city_code_prefix + str(city_code_from_dataframe)\n",
        "  api_data_of_city = census_api_response_as_dict[\"data\"][full_city_code]\n",
        "  age_population_total_per_city = 0\n",
        "  for subtableid in sub_table_IDS_FOR_age_18_34:\n",
        "    age_population_total_per_city += api_data_of_city[table_id_FOR_Age][\"estimate\"][subtableid]\n",
        "\n",
        "  Age_18_34.append(age_population_total_per_city)\n",
        "\n",
        "print(Age_18_34)\n",
        "\n",
        "\n"
      ],
      "execution_count": 0,
      "outputs": [
        {
          "output_type": "stream",
          "text": [
            "[46982.0, 162727.0, 35761.0, 25295.0, 211721.0, 211650.0, 34535.0, 176497.0, 25198.0, 64328.0, 42817.0, 106815.0, 118786.0, 26060.0, 49541.0, 88349.0, 68755.0, 1325746.0, 58348.0, 52760.0, 138721.0, 546901.0, 228411.0, 658867.0, 37058.0, 34047.0, 217765.0, 28259.0, 21140.0, 94838.0, 23545.0, 58599.0, 34329.0, 36072.0, 58873.0, 254843.0, 30943.0, 62899.0, 56540.0, 64135.0, 21272.0, 153143.0, 1190362.0, 90397.0, 46553.0, 62447.0, 193957.0, 95975.0, 23034.0, 262334.0, 34452.0, 59132.0, 25652.0, 81456.0, 125486.0, 24516.0, 35693.0, 11037.0, 19380.0, 59065.0, 29888.0, 84620.0, 43120.0, 188156.0, 544866.0, 60342.0, 120625.0, 23789.0, 2263746.0, 61853.0, 487040.0, 84526.0, 25964.0, 434932.0, 30721.0, 99186.0, 182554.0, 62209.0, 208378.0, 81709.0, 17917.0, 502923.0, 107877.0, 31475.0, 62522.0, 23663.0, 1700160.0, 32045.0, 16010.0, 38088.0, 80970.0, 182418.0, 30859.0, 22644.0, 118267.0, 682328.0, 146226.0, 919058.0, 29864.0, 41425.0, 22255.0, 65450.0, 146301.0, 36055.0, 43819.0, 45316.0, 34080.0, 43854.0, 18305.0, 218874.0, 14383.0, 65296.0, 93512.0, 70439.0, 32362.0, 73857.0, 29484.0, 116561.0, 132226.0, 46752.0, 85057.0, 43655.0, 32288.0, 20967.0, 95413.0, 59816.0, 95612.0, 250075.0, 20734.0, 100411.0, 42623.0, 20517.0, 24955.0, 29074.0, 32835.0, 17455.0, 34393.0, 254657.0, 14179.0, 19549.0, 69333.0, 69146.0, 170894.0, 56378.0, 200546.0, 88223.0, 55046.0, 32771.0, 42033.0, 125248.0, 41487.0, 275036.0, 40592.0, 70675.0, 44636.0, 25603.0, 19025.0, 18309.0, 49790.0, 1624207.0, 74860.0, 102478.0, 30734.0, 458494.0, 58074.0, 41916.0, 33725.0, 138044.0, 30173.0, 335772.0, 79662.0, 33852.0, 34063.0, 45409.0, 26678.0, 32449.0, 39580.0, 33099.0, 89904.0, 24887.0, 465122.0, 64861.0, 126828.0, 56693.0, 39084.0, 192762.0, 16270.0, 37484.0, 118607.0, 76417.0, 48566.0, 33771.0, 137723.0, 118485.0, 135315.0, 66996.0, 58761.0, 498067.0, 46262.0, 37613.0, 27620.0, 12949.0, 22578.0, 133141.0, 23362.0, 94363.0, 175865.0, 42420.0, 48575.0, 20190.0, 3379697.0, 282408.0, 97136.0, 64062.0, 51207.0, 36848.0, 175096.0, 88365.0, 43923.0, 32351.0, 25022.0, 204040.0, 42851.0, 314850.0, 69132.0, 1319052.0, 23781.0, 17350.0, 44413.0, 364826.0, 824838.0, 34271.0, 96075.0, 129347.0, 42668.0, 29012.0, 89012.0, 47992.0, 23018.0, 24808.0, 35599.0, 37103.0, 80850.0, 30074.0, 59242.0, 447390.0, 31037.0, 200586.0, 300760.0, 4797805.0, 30830.0, 120522.0, 62552.0, 60060.0, 17193.0, 42408.0, 153484.0, 342216.0, 61576.0, 216103.0, 595606.0, 42990.0, 23997.0, 194425.0, 105079.0, 44833.0, 17495.0, 119047.0, 80522.0, 1421360.0, 1076160.0, 21609.0, 510291.0, 25584.0, 21756.0, 108684.0, 557280.0, 79817.0, 34985.0, 378982.0, 181443.0, 35816.0, 22091.0, 39506.0, 294925.0, 32176.0, 90621.0, 37110.0, 106995.0, 297008.0, 1109952.0, 63731.0, 45322.0, 253289.0, 70626.0, 29975.0, 21966.0, 541500.0, 42444.0, 52956.0, 32718.0, 29870.0, 625953.0, 95773.0, 109118.0, 81184.0, 304717.0, 33177.0, 594988.0, 892901.0, 1118701.0, 477441.0, 75977.0, 74647.0, 27714.0, 129718.0, 109136.0, 100390.0, 119396.0, 929902.0, 23192.0, 15502.0, 22827.0, 26165.0, 103404.0, 27343.0, 36394.0, 60254.0, 74055.0, 71753.0, 129299.0, 44146.0, 165046.0, 115087.0, 27503.0, 62649.0, 24313.0, 172147.0, 26033.0, 156428.0, 123994.0, 626113.0, 42590.0, 32189.0, 10598.0, 148250.0, 47034.0, 89852.0, 246819.0, 221098.0, 73413.0, 52400.0, 249410.0, 64028.0, 43689.0, 103249.0, 22476.0, 36197.0, 457141.0, 112977.0, 72108.0, 15932.0, 46024.0, 1472148.0, 45678.0, 34731.0, 27072.0, 22882.0, 23869.0, 28559.0, 147518.0, 40993.0, 25983.0, 68231.0, 27195.0, 136251.0, 209761.0, 56955.0, 90540.0, 108059.0, 40838.0, 51448.0]\n"
          ],
          "name": "stdout"
        }
      ]
    },
    {
      "cell_type": "code",
      "metadata": {
        "id": "S-yV2QMC-i1o",
        "colab_type": "code",
        "outputId": "d0bea26b-ceb0-4549-9fd1-e3062d6078d1",
        "colab": {
          "base_uri": "https://localhost:8080/",
          "height": 119
        }
      },
      "source": [
        "#Adding parameter 2 Age b/w 18-34\n",
        "df['Age_18_34'] = Age_18_34\n",
        "print(df.loc[df['Age_18_34'].idxmax()])\n",
        "\n"
      ],
      "execution_count": 0,
      "outputs": [
        {
          "output_type": "stream",
          "text": [
            "CBSA                                               35620\n",
            "NAME               New York-Newark-Jersey City, NY-NJ-PA\n",
            "POPESTIMATE2017                                 20320876\n",
            "HH_income                                    1.05089e+06\n",
            "Age_18_34                                    4.79780e+06\n",
            "Name: 249, dtype: object\n"
          ],
          "name": "stdout"
        }
      ]
    },
    {
      "cell_type": "markdown",
      "metadata": {
        "id": "z5nblfnI-me8",
        "colab_type": "text"
      },
      "source": [
        "What city has the highest count of the audience you chose for parameter #2?\n",
        "\n",
        "Answer is New York-Newark-Jersey City, NY-NJ-PA based on above age\n",
        "\n"
      ]
    },
    {
      "cell_type": "code",
      "metadata": {
        "id": "nMOaktkd_1gI",
        "colab_type": "code",
        "outputId": "bef79b31-27ba-40c1-a356-e28bb41de1ee",
        "colab": {
          "base_uri": "https://localhost:8080/",
          "height": 54
        }
      },
      "source": [
        "#Creating a list of Hispanic Population from API for selected cities found in dataframe\n",
        "hispanic_population = []\n",
        "\n",
        "table_id_FOR_race = \"B03002\"\n",
        "city_code_prefix = \"31000US\"\n",
        "sub_table_IDS_FOR_hispanic_race = ['B03002012']\n",
        "\n",
        "for city_code_from_dataframe in df[\"CBSA\"]:\n",
        "  full_city_code = city_code_prefix + str(city_code_from_dataframe)\n",
        "  api_data_of_city = census_api_response_as_dict[\"data\"][full_city_code]\n",
        "  hispanic_population_total_per_city = 0\n",
        "  for subtableid in sub_table_IDS_FOR_hispanic_race:\n",
        "    hispanic_population_total_per_city += api_data_of_city[table_id_FOR_race][\"estimate\"][subtableid]\n",
        "\n",
        "  hispanic_population.append(hispanic_population_total_per_city)\n",
        "\n",
        "print(hispanic_population)\n",
        "\n",
        "\n"
      ],
      "execution_count": 0,
      "outputs": [
        {
          "output_type": "stream",
          "text": [
            "[38892.0, 13318.0, 4057.0, 10483.0, 42999.0, 438681.0, 5043.0, 131402.0, 1467.0, 72974.0, 3133.0, 31081.0, 16405.0, 4121.0, 9685.0, 30180.0, 16851.0, 600033.0, 50510.0, 5813.0, 30654.0, 643813.0, 458907.0, 152566.0, 1935.0, 5869.0, 31535.0, 6709.0, 5428.0, 59164.0, 1692.0, 19198.0, 13684.0, 8674.0, 8698.0, 49370.0, 3047.0, 4750.0, 8630.0, 5043.0, 2187.0, 90422.0, 505477.0, 43558.0, 7218.0, 18954.0, 180379.0, 375256.0, 6209.0, 53897.0, 19453.0, 4367.0, 5377.0, 7553.0, 141544.0, 1998.0, 4219.0, 12665.0, 6666.0, 7516.0, 8063.0, 12566.0, 2139.0, 40011.0, 238718.0, 11350.0, 23308.0, 13839.0, 2081524.0, 35445.0, 65002.0, 24384.0, 6340.0, 113430.0, 6560.0, 60615.0, 112798.0, 5729.0, 43519.0, 20872.0, 5253.0, 79649.0, 270529.0, 6307.0, 20923.0, 1495.0, 2018504.0, 41174.0, 3836.0, 9029.0, 32468.0, 20526.0, 10186.0, 2327.0, 77239.0, 640988.0, 44687.0, 183958.0, 4805.0, 11820.0, 2228.0, 4382.0, 62505.0, 24980.0, 3444.0, 150108.0, 7559.0, 31179.0, 2580.0, 689074.0, 7267.0, 11152.0, 30653.0, 7087.0, 7714.0, 6878.0, 25468.0, 44076.0, 81287.0, 19265.0, 13585.0, 4739.0, 3598.0, 5072.0, 36993.0, 27039.0, 27953.0, 509442.0, 3794.0, 25006.0, 53644.0, 6891.0, 3152.0, 14009.0, 4752.0, 17157.0, 21177.0, 95615.0, 6031.0, 3461.0, 82920.0, 22671.0, 61238.0, 10671.0, 57417.0, 20800.0, 11184.0, 5274.0, 80715.0, 32822.0, 15021.0, 172449.0, 4023.0, 25661.0, 23824.0, 9766.0, 7528.0, 5263.0, 9979.0, 2432651.0, 4107.0, 22057.0, 16911.0, 129654.0, 9169.0, 5025.0, 5404.0, 13071.0, 5462.0, 118640.0, 23474.0, 13573.0, 3847.0, 5890.0, 2096.0, 5779.0, 12108.0, 18134.0, 20643.0, 11142.0, 184178.0, 86493.0, 98240.0, 4750.0, 17714.0, 30808.0, 2602.0, 2284.0, 18800.0, 16357.0, 6772.0, 32591.0, 134399.0, 53792.0, 30814.0, 257482.0, 144782.0, 648211.0, 7109.0, 16046.0, 16795.0, 2298.0, 1927.0, 29861.0, 2995.0, 21047.0, 37443.0, 13537.0, 34271.0, 8936.0, 5972751.0, 57234.0, 108764.0, 6582.0, 6030.0, 87852.0, 36271.0, 25429.0, 7363.0, 3562.0, 2151.0, 770794.0, 25928.0, 71485.0, 155650.0, 2663235.0, 6935.0, 2157.0, 71624.0, 164219.0, 201417.0, 3533.0, 11416.0, 240816.0, 4461.0, 5162.0, 11482.0, 2886.0, 9105.0, 21851.0, 2661.0, 9412.0, 24394.0, 47547.0, 96948.0, 127924.0, 8267.0, 148446.0, 109225.0, 4863602.0, 8080.0, 93345.0, 27186.0, 42467.0, 6954.0, 91475.0, 79596.0, 173160.0, 22980.0, 91986.0, 693930.0, 6654.0, 3078.0, 358244.0, 55042.0, 11582.0, 965.0, 25671.0, 12681.0, 546680.0, 1391821.0, 2057.0, 38230.0, 5461.0, 6954.0, 9499.0, 276917.0, 74701.0, 31508.0, 194823.0, 66026.0, 69809.0, 11873.0, 24763.0, 132530.0, 6563.0, 81398.0, 17218.0, 106714.0, 74069.0, 2239029.0, 11519.0, 9158.0, 75926.0, 46318.0, 8649.0, 10224.0, 481853.0, 16052.0, 5803.0, 15655.0, 6600.0, 82117.0, 96644.0, 250913.0, 27652.0, 205844.0, 45771.0, 1308911.0, 1095458.0, 1014429.0, 532814.0, 62174.0, 91096.0, 75514.0, 198556.0, 132018.0, 22389.0, 46861.0, 364010.0, 17872.0, 18893.0, 7085.0, 15999.0, 16672.0, 44275.0, 26322.0, 9904.0, 24299.0, 19691.0, 28394.0, 4539.0, 120936.0, 14164.0, 4300.0, 4559.0, 4125.0, 295606.0, 4091.0, 26285.0, 23840.0, 549477.0, 3657.0, 8682.0, 6608.0, 40053.0, 23090.0, 63157.0, 368612.0, 92047.0, 8150.0, 42128.0, 95070.0, 13823.0, 8690.0, 112098.0, 44814.0, 45966.0, 110305.0, 291867.0, 66949.0, 12928.0, 12330.0, 930161.0, 6104.0, 8465.0, 3624.0, 1536.0, 33236.0, 1374.0, 80631.0, 25741.0, 2204.0, 15774.0, 11480.0, 65744.0, 101421.0, 120080.0, 30643.0, 17895.0, 49389.0, 128465.0]\n"
          ],
          "name": "stdout"
        }
      ]
    },
    {
      "cell_type": "code",
      "metadata": {
        "id": "e6E5FtYU_5c0",
        "colab_type": "code",
        "outputId": "35aef7e7-e396-4a1d-acf9-5f9eaa1a68c1",
        "colab": {
          "base_uri": "https://localhost:8080/",
          "height": 136
        }
      },
      "source": [
        "#Adding parameter 3 Hispanic Population\n",
        "df['hispanic_population'] = hispanic_population\n",
        "print(df.loc[df['hispanic_population'].idxmax()])\n",
        "\n"
      ],
      "execution_count": 0,
      "outputs": [
        {
          "output_type": "stream",
          "text": [
            "CBSA                                                31080\n",
            "NAME                   Los Angeles-Long Beach-Anaheim, CA\n",
            "POPESTIMATE2017                                  13353907\n",
            "HH_income                                          700681\n",
            "Age_18_34                                      3.3797e+06\n",
            "hispanic_population                           5.97275e+06\n",
            "Name: 210, dtype: object\n"
          ],
          "name": "stdout"
        }
      ]
    },
    {
      "cell_type": "markdown",
      "metadata": {
        "id": "Dst9nLaj_7s-",
        "colab_type": "text"
      },
      "source": [
        "What city has the highest count of the audience you chose for parameter #3?\n",
        "\n",
        "Answer is Los Angeles-Long Beach-Anaheim, CA based on above race\n",
        "\n"
      ]
    },
    {
      "cell_type": "code",
      "metadata": {
        "id": "g1n6uwxTAzmo",
        "colab_type": "code",
        "outputId": "6a2a33bc-490e-4dc2-f14e-e13d579f7abe",
        "colab": {
          "base_uri": "https://localhost:8080/",
          "height": 221
        }
      },
      "source": [
        "highest_hh_income_pop = df['HH_income'].max()\n",
        "print(\"highest_hh_income_pop\", highest_hh_income_pop)\n",
        "\n",
        "highest_Age_18_34_pop = df['Age_18_34'].max()\n",
        "print(\"highest_Age_18_34_pop\", highest_Age_18_34_pop)\n",
        "\n",
        "highest_hispanic_pop = df['hispanic_population'].max()\n",
        "print(\"highest_hispanic_pop\", highest_hispanic_pop)\n",
        "\n",
        "prcnt_score_hh_income_df = (df[\"HH_income\"] / highest_hh_income_pop) * 100\n",
        "prcnt_score_age_df = (df[\"Age_18_34\"] / highest_Age_18_34_pop) * 100\n",
        "prcnt_score_race_df = (df[\"hispanic_population\"] / highest_hispanic_pop) * 100\n",
        "\n",
        "df_prcnt_score = pd.DataFrame()\n",
        "df_prcnt_score[\"prcnt_score_hh_income\"] = prcnt_score_hh_income_df\n",
        "df_prcnt_score[\"prcnt_score_age\"] = prcnt_score_age_df\n",
        "df_prcnt_score[\"prcnt_score_race\"] = prcnt_score_race_df\n",
        "\n",
        "df['mean_prcnt_score'] = df_prcnt_score.mean(axis=1)\n",
        "\n",
        "print(df.loc[df['mean_prcnt_score'].idxmax()])\n"
      ],
      "execution_count": 0,
      "outputs": [
        {
          "output_type": "stream",
          "text": [
            "highest_hh_income_pop 1050888.0\n",
            "highest_Age_18_34_pop 4797805.0\n",
            "highest_hispanic_pop 5972751.0\n",
            "CBSA                                                                       35620\n",
            "NAME                                       New York-Newark-Jersey City, NY-NJ-PA\n",
            "POPESTIMATE2017                                                         20320876\n",
            "HH_income                                                            1.05089e+06\n",
            "Age_18_34                                                            4.79780e+06\n",
            "hispanic_population                                                   4.8636e+06\n",
            "mean_precentage_score_of_all_categories                                  93.8099\n",
            "mean_prcnt_score                                                         93.8099\n",
            "Name: 249, dtype: object\n"
          ],
          "name": "stdout"
        }
      ]
    },
    {
      "cell_type": "markdown",
      "metadata": {
        "id": "g1lBHVSNA0C_",
        "colab_type": "text"
      },
      "source": [
        "What city has the highest mean percentage across all three categories?\n",
        "\n",
        "Highest mean prcnt across all three categories is in New York-Newark-Jersey City, NY-NJ-PA city\n",
        "\n"
      ]
    },
    {
      "cell_type": "code",
      "metadata": {
        "id": "j89Zzb16Jd6K",
        "colab_type": "code",
        "colab": {}
      },
      "source": [
        ""
      ],
      "execution_count": 0,
      "outputs": []
    },
    {
      "cell_type": "code",
      "metadata": {
        "id": "v-tqAGvLJd4j",
        "colab_type": "code",
        "colab": {}
      },
      "source": [
        ""
      ],
      "execution_count": 0,
      "outputs": []
    }
  ]
}