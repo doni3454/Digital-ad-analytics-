{
  "nbformat": 4,
  "nbformat_minor": 0,
  "metadata": {
    "colab": {
      "name": "Python Exercise 1: Basic Ad Analyses - By Aratrika (Doni).ipynb",
      "provenance": [],
      "collapsed_sections": []
    },
    "kernelspec": {
      "name": "python3",
      "display_name": "Python 3"
    }
  },
  "cells": [
    {
      "cell_type": "markdown",
      "metadata": {
        "id": "VfwJqSHM04K7",
        "colab_type": "text"
      },
      "source": [
        "In this article, I will analyze some advertising campaign engagement data from Facebook. Each row is an ad that ran on the platform. It includes the amount spent on the campaign, and other outcome/engagement data. The goal was to do some basic regression analyses and tease out some insights."
      ]
    },
    {
      "cell_type": "markdown",
      "metadata": {
        "id": "qRLAdiwIsQZb",
        "colab_type": "text"
      },
      "source": [
        "For that we need to first mount google drive to get the Travel Pony data. If you do not know how to mount google drive in your google collab the below collab will be helpful. "
      ]
    },
    {
      "cell_type": "code",
      "metadata": {
        "id": "b82yZDj81LhH",
        "colab_type": "code",
        "colab": {}
      },
      "source": [
        ""
      ],
      "execution_count": 0,
      "outputs": []
    },
    {
      "cell_type": "code",
      "metadata": {
        "id": "vBYxGxfYvksg",
        "colab_type": "code",
        "outputId": "389d90d4-958e-417f-c7b6-0e3f0d5dd976",
        "colab": {
          "base_uri": "https://localhost:8080/",
          "height": 122
        }
      },
      "source": [
        "from google.colab import drive \n",
        "drive.mount('/content/gdrive')\n"
      ],
      "execution_count": 0,
      "outputs": [
        {
          "output_type": "stream",
          "text": [
            "Go to this URL in a browser: https://accounts.google.com/o/oauth2/auth?client_id=947318989803-6bn6qk8qdgf4n4g3pfee6491hc0brc4i.apps.googleusercontent.com&redirect_uri=urn%3Aietf%3Awg%3Aoauth%3A2.0%3Aoob&scope=email%20https%3A%2F%2Fwww.googleapis.com%2Fauth%2Fdocs.test%20https%3A%2F%2Fwww.googleapis.com%2Fauth%2Fdrive%20https%3A%2F%2Fwww.googleapis.com%2Fauth%2Fdrive.photos.readonly%20https%3A%2F%2Fwww.googleapis.com%2Fauth%2Fpeopleapi.readonly&response_type=code\n",
            "\n",
            "Enter your authorization code:\n",
            "··········\n",
            "Mounted at /content/gdrive\n"
          ],
          "name": "stdout"
        }
      ]
    },
    {
      "cell_type": "code",
      "metadata": {
        "id": "MR7IvBMN4OqM",
        "colab_type": "code",
        "colab": {}
      },
      "source": [
        "import pandas as pd \n",
        "df=pd.read_csv('/content/gdrive/My Drive/Academics/Sem 3/DAD/Travel Pony Facebook.csv')"
      ],
      "execution_count": 0,
      "outputs": []
    },
    {
      "cell_type": "markdown",
      "metadata": {
        "id": "qZxfguFetBxq",
        "colab_type": "text"
      },
      "source": [
        "1. Creating a cost per impressions column. Cost per impressions = Amount Spend / Impressions. This helps in figuring out what day of the week works best? (What day is it cheapest to generate impressions)\n",
        "What day works worst? (What day is most expensive)"
      ]
    },
    {
      "cell_type": "code",
      "metadata": {
        "id": "nx6d-2it4bD6",
        "colab_type": "code",
        "outputId": "5da61225-021b-489b-af19-d2fcca62822f",
        "colab": {
          "base_uri": "https://localhost:8080/",
          "height": 221
        }
      },
      "source": [
        "df ['Cost per Impressions'] = df['Amount Spent (USD)']/df['Impressions']\n",
        "print (df ['Cost per Impressions'])"
      ],
      "execution_count": 0,
      "outputs": [
        {
          "output_type": "stream",
          "text": [
            "0       0.000466\n",
            "1       0.000652\n",
            "2       0.000448\n",
            "3       0.000452\n",
            "4       0.002464\n",
            "          ...   \n",
            "3700    0.003512\n",
            "3701    0.002936\n",
            "3702    0.008919\n",
            "3703    0.006643\n",
            "3704    0.000439\n",
            "Name: Cost per Impressions, Length: 3705, dtype: float64\n"
          ],
          "name": "stdout"
        }
      ]
    },
    {
      "cell_type": "markdown",
      "metadata": {
        "id": "YmOH8L5wuwcq",
        "colab_type": "text"
      },
      "source": [
        "1a) Finding the best days and worst days fo impressions. This is done by figuring out which days are the most expensive and which days are the cheapest to generate impressions. "
      ]
    },
    {
      "cell_type": "code",
      "metadata": {
        "id": "4zFCjN26vmWR",
        "colab_type": "code",
        "outputId": "78ce495d-b350-4e52-cde8-14b5780ce0e3",
        "colab": {
          "base_uri": "https://localhost:8080/",
          "height": 88
        }
      },
      "source": [
        "# Installing Arrow \n",
        "!pip install arrow\n"
      ],
      "execution_count": 0,
      "outputs": [
        {
          "output_type": "stream",
          "text": [
            "Requirement already satisfied: arrow in /usr/local/lib/python3.6/dist-packages (0.15.4)\n",
            "Requirement already satisfied: python-dateutil in /usr/local/lib/python3.6/dist-packages (from arrow) (2.6.1)\n",
            "Requirement already satisfied: six>=1.5 in /usr/local/lib/python3.6/dist-packages (from python-dateutil->arrow) (1.12.0)\n"
          ],
          "name": "stdout"
        }
      ]
    },
    {
      "cell_type": "code",
      "metadata": {
        "id": "KMSWtlH3wxt4",
        "colab_type": "code",
        "outputId": "4daf8d19-892a-492f-d65e-ba8073f61c78",
        "colab": {
          "base_uri": "https://localhost:8080/",
          "height": 34
        }
      },
      "source": [
        "import arrow\n",
        "\n",
        "# A function to return iso_weekday for a given \"Start Date\" as string\n",
        "def get_iso_weekday(start_date):\n",
        "  dt = arrow.get(start_date, 'YYYY-MM-DD')\n",
        "  return dt.isoweekday()\n",
        "\n",
        "# This example below shows how to convert StartDate of type String to an Arrow\n",
        "# which then can be used for aggregation\n",
        "# print(start_date_df_as_string[0])\n",
        "# print(get_iso_weekday(start_date_df_as_string[0]))\n",
        "\n",
        "# Creating a new column with Start Date as Datetime\n",
        "start_date_series = df[\"Start Date\"]\n",
        "iso_weekday_series = start_date_series.apply(get_iso_weekday)\n",
        "df[\"ISO Weekday\"] = iso_weekday_series\n",
        "#print(df)\n",
        "print(\"unique ISO weekdays\", df[\"ISO Weekday\"].unique())\n",
        "\n",
        "\n",
        "\n",
        "\n"
      ],
      "execution_count": 0,
      "outputs": [
        {
          "output_type": "stream",
          "text": [
            "unique ISO weekdays [1 7 6 5 4 3 2]\n"
          ],
          "name": "stdout"
        }
      ]
    },
    {
      "cell_type": "code",
      "metadata": {
        "id": "y7_w_-6p8Uo9",
        "colab_type": "code",
        "outputId": "8488571e-342b-44b1-8e51-789b3778c75c",
        "colab": {
          "base_uri": "https://localhost:8080/",
          "height": 204
        }
      },
      "source": [
        "# Finding the mean for Cost per imporession for all days of week\n",
        "cost_per_impression_by_weekday_df = df.groupby('ISO Weekday')['Cost per Impressions'].mean()\n",
        "print(cost_per_impression_by_weekday_df)\n",
        "print(\"Day of the week with lowest cost per impression:\", cost_per_impression_by_weekday_df.idxmin())\n",
        "print(\"Day of the week with highest cost per impression:\", cost_per_impression_by_weekday_df.idxmax())\n",
        "\n"
      ],
      "execution_count": 0,
      "outputs": [
        {
          "output_type": "stream",
          "text": [
            "ISO Weekday\n",
            "1    0.002910\n",
            "2    0.003040\n",
            "3    0.002981\n",
            "4    0.003398\n",
            "5    0.004097\n",
            "6    0.002629\n",
            "7    0.003688\n",
            "Name: Cost per Impressions, dtype: float64\n",
            "Day of the week with lowest cost per imporession: 6\n",
            "Day of the week with highest cost per imporession: 5\n"
          ],
          "name": "stdout"
        }
      ]
    },
    {
      "cell_type": "markdown",
      "metadata": {
        "id": "h_1TGrjC9437",
        "colab_type": "text"
      },
      "source": [
        "Therefore, Friday is the most expensive and Saturday is the cheapest. "
      ]
    },
    {
      "cell_type": "markdown",
      "metadata": {
        "id": "UxEBoJt5-LA4",
        "colab_type": "text"
      },
      "source": [
        "2. Computing correlation between amount spent and other variables like \n",
        "- Reach\n",
        "- Frequency\n",
        "- Unique Clicks\n",
        "- Page Likes\n",
        "\n",
        "Correlation = Is a measure of how things are related. "
      ]
    },
    {
      "cell_type": "code",
      "metadata": {
        "id": "e73KYmTk_4OG",
        "colab_type": "code",
        "outputId": "dcb964cc-7927-477b-cc40-fd2e807cc175",
        "colab": {
          "base_uri": "https://localhost:8080/",
          "height": 153
        }
      },
      "source": [
        "# learning correlation from https://pythonprogramming.net/pandas-saving-reading-csv-file/\n",
        "# print(df.describe())\n",
        "# print(df.corr())\n",
        "print(df[['Amount Spent (USD)','Reach', 'Frequency', 'Unique Clicks', 'Page Likes']].corr())"
      ],
      "execution_count": 0,
      "outputs": [
        {
          "output_type": "stream",
          "text": [
            "                    Amount Spent (USD)     Reach  ...  Unique Clicks  Page Likes\n",
            "Amount Spent (USD)            1.000000  0.703124  ...       0.882993    0.757612\n",
            "Reach                         0.703124  1.000000  ...       0.722249    0.304388\n",
            "Frequency                     0.130201  0.334101  ...       0.135103    0.000182\n",
            "Unique Clicks                 0.882993  0.722249  ...       1.000000    0.584614\n",
            "Page Likes                    0.757612  0.304388  ...       0.584614    1.000000\n",
            "\n",
            "[5 rows x 5 columns]\n"
          ],
          "name": "stdout"
        }
      ]
    },
    {
      "cell_type": "markdown",
      "metadata": {
        "id": "tj4Ew1ADGEeu",
        "colab_type": "text"
      },
      "source": [
        "The strongest correlation is between Amount Spent and Unique clicks with a coefficient of 0.883. This means that the ad spend has the most effect in the total different individuals who see and click your ad. This shows that the more money we spend, the more we reach out to different people which is good thing. "
      ]
    },
    {
      "cell_type": "markdown",
      "metadata": {
        "id": "nRYdfq7pLe4I",
        "colab_type": "text"
      },
      "source": [
        "3. Computing regression analysis between Unique Clicks (which is the dependent variable) and Reach and Frequency (which are the independent variables)."
      ]
    },
    {
      "cell_type": "code",
      "metadata": {
        "id": "6tWW9nsjLtr4",
        "colab_type": "code",
        "outputId": "e440d68b-6754-4789-ef81-356d6b76b88b",
        "colab": {
          "base_uri": "https://localhost:8080/",
          "height": 583
        }
      },
      "source": [
        "from pandas import DataFrame\n",
        "import matplotlib.pyplot as plt\n",
        "\n",
        "\n",
        "plt.scatter(df['Reach'], df['Unique Clicks'], color='red')\n",
        "plt.title('Unique Clicks Vs Reach', fontsize=14)\n",
        "plt.xlabel('Reach', fontsize=14)\n",
        "plt.ylabel('Unique Clicks', fontsize=14)\n",
        "plt.grid(True)\n",
        "plt.show()\n",
        " \n",
        "plt.scatter(df['Frequency'], df['Unique Clicks'], color='green')\n",
        "plt.title('Unique Clicks Vs Frequency', fontsize=14)\n",
        "plt.xlabel('Frequency', fontsize=14)\n",
        "plt.ylabel('Unique Clicks', fontsize=14)\n",
        "plt.grid(True)\n",
        "plt.show()\n"
      ],
      "execution_count": 0,
      "outputs": [
        {
          "output_type": "display_data",
          "data": {
            "image/png": "[encoded data removed]",
            "text/plain": [
              "<Figure size 432x288 with 1 Axes>"
            ]
          },
          "metadata": {
            "tags": []
          }
        },
        {
          "output_type": "display_data",
          "data": {
            "image/png": "[encoded data removed]",
            "text/plain": [
              "<Figure size 432x288 with 1 Axes>"
            ]
          },
          "metadata": {
            "tags": []
          }
        }
      ]
    },
    {
      "cell_type": "code",
      "metadata": {
        "id": "eEJLe9iqReYx",
        "colab_type": "code",
        "outputId": "f9aeefe0-0391-49f4-ef36-3590f2972730",
        "colab": {
          "base_uri": "https://localhost:8080/",
          "height": 615
        }
      },
      "source": [
        "from pandas import DataFrame\n",
        "from sklearn import linear_model\n",
        "import statsmodels.api as sm\n",
        "\n",
        "# here we have 2 variables for multiple regression. If you just want to use one variable for simple linear regression, then use X = df['Interest_Rate'] for example.Alternatively, you may add additional variables within the brackets\n",
        "X = df[['Reach','Frequency']] \n",
        "Y = df['Unique Clicks']\n",
        " \n",
        "# with sklearn\n",
        "regr = linear_model.LinearRegression()\n",
        "regr.fit(X, Y)\n",
        "\n",
        "print('Intercept: \\n', regr.intercept_)\n",
        "print('Coefficients: \\n', regr.coef_)\n",
        "\n",
        "\n",
        "# with statsmodels\n",
        "X = sm.add_constant(X) # adding a constant\n",
        " \n",
        "model = sm.OLS(Y, X).fit()\n",
        "predictions = model.predict(X) \n",
        " \n",
        "print_model = model.summary()\n",
        "print(print_model)\n",
        "\n",
        "# y = m1*x1 + m2*x2 + b\n",
        "# unique_click = reach * (0.00206) + frequency * (-25.06) + 29.227\n",
        "\n"
      ],
      "execution_count": 0,
      "outputs": [
        {
          "output_type": "stream",
          "text": [
            "Intercept: \n",
            " 29.227730390224757\n",
            "Coefficients: \n",
            " [ 2.06474936e-03 -2.50632823e+01]\n",
            "                            OLS Regression Results                            \n",
            "==============================================================================\n",
            "Dep. Variable:          Unique Clicks   R-squared:                       0.534\n",
            "Model:                            OLS   Adj. R-squared:                  0.534\n",
            "Method:                 Least Squares   F-statistic:                     2124.\n",
            "Date:                Tue, 12 Nov 2019   Prob (F-statistic):               0.00\n",
            "Time:                        06:22:30   Log-Likelihood:                -15907.\n",
            "No. Observations:                3705   AIC:                         3.182e+04\n",
            "Df Residuals:                    3702   BIC:                         3.184e+04\n",
            "Df Model:                           2                                         \n",
            "Covariance Type:            nonrobust                                         \n",
            "==============================================================================\n",
            "                 coef    std err          t      P>|t|      [0.025      0.975]\n",
            "------------------------------------------------------------------------------\n",
            "const         29.2277      2.525     11.575      0.000      24.277      34.178\n",
            "Reach          0.0021   3.22e-05     64.054      0.000       0.002       0.002\n",
            "Frequency    -25.0633      2.495    -10.047      0.000     -29.954     -20.172\n",
            "==============================================================================\n",
            "Omnibus:                     5087.566   Durbin-Watson:                   0.805\n",
            "Prob(Omnibus):                  0.000   Jarque-Bera (JB):          4867968.237\n",
            "Skew:                           7.291   Prob(JB):                         0.00\n",
            "Kurtosis:                     179.977   Cond. No.                     1.19e+05\n",
            "==============================================================================\n",
            "\n",
            "Warnings:\n",
            "[1] Standard Errors assume that the covariance matrix of the errors is correctly specified.\n",
            "[2] The condition number is large, 1.19e+05. This might indicate that there are\n",
            "strong multicollinearity or other numerical problems.\n"
          ],
          "name": "stdout"
        },
        {
          "output_type": "stream",
          "text": [
            "/usr/local/lib/python3.6/dist-packages/numpy/core/fromnumeric.py:2495: FutureWarning: Method .ptp is deprecated and will be removed in a future version. Use numpy.ptp instead.\n",
            "  return ptp(axis=axis, out=out, **kwargs)\n"
          ],
          "name": "stderr"
        }
      ]
    },
    {
      "cell_type": "markdown",
      "metadata": {
        "id": "F8GoJcGoVFjY",
        "colab_type": "text"
      },
      "source": [
        "The variable that strongly predicts unique click is frequency. If frequency is very high, then the unique clicks reduce . "
      ]
    }
  ]
}